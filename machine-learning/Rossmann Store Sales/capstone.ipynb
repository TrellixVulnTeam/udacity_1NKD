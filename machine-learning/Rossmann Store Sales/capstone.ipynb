{
 "cells": [
  {
   "cell_type": "code",
   "execution_count": 1,
   "metadata": {},
   "outputs": [],
   "source": [
    "import numpy as np\n",
    "import pandas as pd\n",
    "import matplotlib.pyplot as plt\n",
    "%matplotlib inline"
   ]
  },
  {
   "cell_type": "code",
   "execution_count": 2,
   "metadata": {
    "scrolled": true
   },
   "outputs": [
    {
     "name": "stderr",
     "output_type": "stream",
     "text": [
      "D:\\Anaconda\\lib\\site-packages\\IPython\\core\\interactiveshell.py:2728: DtypeWarning: Columns (7) have mixed types. Specify dtype option on import or set low_memory=False.\n",
      "  interactivity=interactivity, compiler=compiler, result=result)\n"
     ]
    }
   ],
   "source": [
    "df_store = pd.read_csv(\"store.csv\")\n",
    "df_train = pd.read_csv(\"train.csv\", parse_dates=[2])\n",
    "df_test = pd.read_csv(\"test.csv\", parse_dates=[3])"
   ]
  },
  {
   "cell_type": "code",
   "execution_count": 3,
   "metadata": {},
   "outputs": [
    {
     "name": "stdout",
     "output_type": "stream",
     "text": [
      "<class 'pandas.core.frame.DataFrame'>\n",
      "RangeIndex: 1017209 entries, 0 to 1017208\n",
      "Data columns (total 9 columns):\n",
      "Store            1017209 non-null int64\n",
      "DayOfWeek        1017209 non-null int64\n",
      "Date             1017209 non-null datetime64[ns]\n",
      "Sales            1017209 non-null int64\n",
      "Customers        1017209 non-null int64\n",
      "Open             1017209 non-null int64\n",
      "Promo            1017209 non-null int64\n",
      "StateHoliday     1017209 non-null object\n",
      "SchoolHoliday    1017209 non-null int64\n",
      "dtypes: datetime64[ns](1), int64(7), object(1)\n",
      "memory usage: 69.8+ MB\n",
      "<class 'pandas.core.frame.DataFrame'>\n",
      "RangeIndex: 1115 entries, 0 to 1114\n",
      "Data columns (total 10 columns):\n",
      "Store                        1115 non-null int64\n",
      "StoreType                    1115 non-null object\n",
      "Assortment                   1115 non-null object\n",
      "CompetitionDistance          1112 non-null float64\n",
      "CompetitionOpenSinceMonth    761 non-null float64\n",
      "CompetitionOpenSinceYear     761 non-null float64\n",
      "Promo2                       1115 non-null int64\n",
      "Promo2SinceWeek              571 non-null float64\n",
      "Promo2SinceYear              571 non-null float64\n",
      "PromoInterval                571 non-null object\n",
      "dtypes: float64(5), int64(2), object(3)\n",
      "memory usage: 87.2+ KB\n",
      "<class 'pandas.core.frame.DataFrame'>\n",
      "RangeIndex: 41088 entries, 0 to 41087\n",
      "Data columns (total 8 columns):\n",
      "Id               41088 non-null int64\n",
      "Store            41088 non-null int64\n",
      "DayOfWeek        41088 non-null int64\n",
      "Date             41088 non-null datetime64[ns]\n",
      "Open             41077 non-null float64\n",
      "Promo            41088 non-null int64\n",
      "StateHoliday     41088 non-null object\n",
      "SchoolHoliday    41088 non-null int64\n",
      "dtypes: datetime64[ns](1), float64(1), int64(5), object(1)\n",
      "memory usage: 2.5+ MB\n"
     ]
    }
   ],
   "source": [
    "df_train.info()\n",
    "df_store.info()\n",
    "df_test.info()"
   ]
  },
  {
   "cell_type": "code",
   "execution_count": 4,
   "metadata": {},
   "outputs": [],
   "source": [
    "#数据处理\n",
    "def data_process(data, features):\n",
    "    data.loc[data['Open'].isnull(), 'Open'] = 1\n",
    "    data.loc[data['CompetitionDistance'].isnull(), 'CompetitionDistance'] = 0\n",
    "    features.extend(['Store', 'CompetitionDistance', 'Promo', 'Promo2', 'SchoolHoliday'])\n",
    "    \n",
    "    #calculate log(sales) and log(customers)\n",
    "    data.loc[data['isTrain'] == 1, 'SalesLog'] = np.log1p(data.loc[data['isTrain'] == 1]['Sales'])\n",
    "    data.loc[data['isTrain'] == 1, 'CustomersLog'] = np.log1p(data.loc[data['isTrain'] == 1]['Customers'])\n",
    "\n",
    "    #change StoreType / Assortment / StateHoliday values\n",
    "    replace_dict = {'a': 1, 'b': 2, 'c':3, 'd':4, '0':0}\n",
    "    data.replace(replace_dict, inplace=True)\n",
    "    features.extend(['StoreType', 'Assortment', 'StateHoliday'])\n",
    "    \n",
    "    #Date column split\n",
    "    data['Year'] = data['Date'].apply(lambda x: x.year)\n",
    "    data['Month'] = data['Date'].apply(lambda x: x.month)\n",
    "    data['Day'] = data.Date.dt.day  \n",
    "    data['DayOfWeek'] = data.Date.dt.dayofweek \n",
    "    data['WeekOfYear'] = data['Date'].apply(lambda x: x.weekofyear)\n",
    "    data['DayOfYear'] = data.Date.dt.dayofyear\n",
    "    features.extend(['DayOfWeek', 'Month', 'Day', 'Year', 'WeekOfYear', 'DayOfYear'])\n",
    "    \n",
    "    #competition open time in months\n",
    "    data[\"CompetitionOpenSinceYear\"][(data[\"CompetitionDistance\"] != 0) & (data[\"CompetitionOpenSinceYear\"].isnull())] = 1900#data['CompetitionOpenSinceYear'].median()\n",
    "    data[\"CompetitionOpenSinceMonth\"][(data[\"CompetitionDistance\"] != 0) & (data[\"CompetitionOpenSinceMonth\"].isnull())] = 1#data['CompetitionOpenSinceMonth'].median()\n",
    "    data['CompetitionOpen'] = 12 * (data['Year'] - data['CompetitionOpenSinceYear']) +\\\n",
    "                            (data['Month'] - data['CompetitionOpenSinceMonth'])\n",
    "    features.append('CompetitionOpen')\n",
    "    \n",
    "    #promo open time in months\n",
    "    data['PromoOpen'] = 12 * (data['Year'] - data['Promo2SinceYear']) +\\\n",
    "                        (data['WeekOfYear'] - data['Promo2SinceWeek']) / 4.0\n",
    "    data.loc[data['Promo2SinceYear'] == 0, 'PromoOpen'] = 0\n",
    "    features.append('PromoOpen')\n",
    "    \n",
    "    #promo month\n",
    "    month2str = {1: 'Jan', 2: 'Feb', 3: 'Mar', 4: 'Apr', 5: 'May', 6: 'Jun', \\\n",
    "                 7: 'Jul', 8: 'Aug', 9: 'Sept', 10: 'Oct', 11: 'Nov', 12: 'Dec'}  \n",
    "    data['monthStr'] = data['Month'].map(month2str)\n",
    "    data.loc[data.PromoInterval == 0, 'PromoInterval'] = ''\n",
    "    data['IsPromoMonth'] = 0\n",
    "    for interval in data['PromoInterval'].unique():\n",
    "        if interval == interval:  \n",
    "            for month in interval.split(','):\n",
    "                data.loc[(data.monthStr == month) & (data.PromoInterval == interval), 'IsPromoMonth'] = 1 \n",
    "    features.append('IsPromoMonth')\n",
    "    \n",
    "    #calculate number of schoolholidays this week, last week and next week\n",
    "    SchoolHolidays = data.groupby(['Store','Year','WeekOfYear'])['SchoolHoliday'].sum().reset_index(name='holidays_thisweek')\n",
    "    SchoolHolidays['holidays_lastweek'] = 0\n",
    "    SchoolHolidays['holidays_nextweek'] = 0\n",
    "\n",
    "    for store in SchoolHolidays.Store.unique().tolist():\n",
    "        storeLen = len(SchoolHolidays[SchoolHolidays['Store'] == store])\n",
    "        SchoolHolidays.loc[1:storeLen-1, 'holidays_lastweek'] = SchoolHolidays.loc[0:storeLen-2, 'holidays_thisweek'].values\n",
    "        SchoolHolidays.loc[0:storeLen-2, 'holidays_nextweek'] = SchoolHolidays.loc[1:storeLen-1, 'holidays_thisweek'].values\n",
    "\n",
    "    data = pd.merge(data, SchoolHolidays, how='left', on=['Store', 'Year', 'WeekOfYear'])\n",
    "    features.extend(['holidays_thisweek', 'holidays_lastweek', 'holidays_nextweek'])\n",
    "    \n",
    "    #calculate average sales per store, sales per customer, customers per store,\n",
    "    salesAvgPerStore = data[data.Open == 1].groupby(['Store'])['Sales'].mean()\n",
    "    customersAvgPerStore = data[data.Open == 1].groupby(['Store'])['Customers'].mean()\n",
    "    salesAvgPerCustomer = salesAvgPerStore / customersAvgPerStore        \n",
    "    data = pd.merge(data, salesAvgPerStore.reset_index(name='SalesAvgPerStore'), how='left', on='Store')\n",
    "    data = pd.merge(data, customersAvgPerStore.reset_index(name='CustomersAvgPerStore'), how='left', on='Store')\n",
    "    data = pd.merge(data, salesAvgPerCustomer.reset_index(name='SalesAvgPerCustomer'), how='left', on='Store')\n",
    "    features.extend(['SalesAvgPerStore', 'CustomersAvgPerStore', 'SalesAvgPerCustomer'])\n",
    "        \n",
    "    #calculate average sales per stateholiday, sales per schoolholiday\n",
    "    data['isStateHoliday'] = 0\n",
    "    data.loc[data.StateHoliday != 0, 'isStateHoliday'] = 1\n",
    "    salesPerStateHoliday = data[data.isStateHoliday == 1].groupby(['Store'])['Sales'].mean()\n",
    "    salesPerSchoolHoliday = data[data.SchoolHoliday == 1].groupby(['Store'])['Sales'].mean()\n",
    "    data = pd.merge(data, salesPerStateHoliday.reset_index(name='SalesPerStateHoliday'), how='left', on='Store')\n",
    "    data = pd.merge(data, salesPerSchoolHoliday.reset_index(name='SalesPerSchoolHoliday'), how='left', on='Store')\n",
    "    features.extend(['SalesPerStateHoliday', 'SalesPerSchoolHoliday'])\n",
    "        \n",
    "    #calculate average and median sales and customers per store per day of week\n",
    "    salesAvgPerDow = data.groupby(['Store', 'DayOfWeek'])['Sales'].mean()\n",
    "    salesMedPerDow = data.groupby(['Store', 'DayOfWeek'])['Sales'].median()\n",
    "    customersAvgPerDow = data.groupby(['Store', 'DayOfWeek'])['Customers'].mean()\n",
    "    customersMedPerDow = data.groupby(['Store', 'DayOfWeek'])['Customers'].median()\n",
    "    data = pd.merge(data, salesAvgPerDow.reset_index(name='SalesAvgPerDow'), how='left', on=['Store', 'DayOfWeek'])\n",
    "    data = pd.merge(data, salesMedPerDow.reset_index(name='SalesMedPerDow'), how='left', on=['Store', 'DayOfWeek'])\n",
    "    data = pd.merge(data, customersAvgPerDow.reset_index(name='CustomersAvgPerDow'), how='left', on=['Store', 'DayOfWeek'])\n",
    "    data = pd.merge(data, customersMedPerDow.reset_index(name='CustomersMedPerDow'), how='left', on=['Store', 'DayOfWeek'])\n",
    "    features.extend(['SalesAvgPerDow', 'SalesMedPerDow', 'CustomersAvgPerDow', 'CustomersMedPerDow'])\n",
    "    \n",
    "    data.fillna(0, inplace=True)\n",
    "    return data"
   ]
  },
  {
   "cell_type": "code",
   "execution_count": 5,
   "metadata": {},
   "outputs": [
    {
     "name": "stderr",
     "output_type": "stream",
     "text": [
      "D:\\Anaconda\\lib\\site-packages\\ipykernel_launcher.py:26: SettingWithCopyWarning: \n",
      "A value is trying to be set on a copy of a slice from a DataFrame\n",
      "\n",
      "See the caveats in the documentation: http://pandas.pydata.org/pandas-docs/stable/indexing.html#indexing-view-versus-copy\n",
      "D:\\Anaconda\\lib\\site-packages\\ipykernel_launcher.py:27: SettingWithCopyWarning: \n",
      "A value is trying to be set on a copy of a slice from a DataFrame\n",
      "\n",
      "See the caveats in the documentation: http://pandas.pydata.org/pandas-docs/stable/indexing.html#indexing-view-versus-copy\n"
     ]
    }
   ],
   "source": [
    "df_test['isTrain'] = 0\n",
    "df_train['isTrain'] = 1\n",
    "df_train_test = pd.concat([df_train, df_test])\n",
    "df_train_test = df_train_test.loc[~((df_train_test.isTrain == 1) & (df_train_test.Sales == 0))]\n",
    "all_df = pd.merge(df_train_test, df_store, how='left', on='Store')\n",
    "features = []\n",
    "data = data_process(all_df, features)"
   ]
  },
  {
   "cell_type": "code",
   "execution_count": 6,
   "metadata": {
    "scrolled": false
   },
   "outputs": [
    {
     "name": "stdout",
     "output_type": "stream",
     "text": [
      "['Store', 'CompetitionDistance', 'Promo', 'Promo2', 'SchoolHoliday', 'StoreType', 'Assortment', 'StateHoliday', 'DayOfWeek', 'Month', 'Day', 'Year', 'WeekOfYear', 'DayOfYear', 'CompetitionOpen', 'PromoOpen', 'IsPromoMonth', 'holidays_thisweek', 'holidays_lastweek', 'holidays_nextweek', 'SalesAvgPerStore', 'CustomersAvgPerStore', 'SalesAvgPerCustomer', 'SalesPerStateHoliday', 'SalesPerSchoolHoliday', 'SalesAvgPerDow', 'SalesMedPerDow', 'CustomersAvgPerDow', 'CustomersMedPerDow']\n"
     ]
    },
    {
     "data": {
      "text/html": [
       "<div>\n",
       "<style scoped>\n",
       "    .dataframe tbody tr th:only-of-type {\n",
       "        vertical-align: middle;\n",
       "    }\n",
       "\n",
       "    .dataframe tbody tr th {\n",
       "        vertical-align: top;\n",
       "    }\n",
       "\n",
       "    .dataframe thead th {\n",
       "        text-align: right;\n",
       "    }\n",
       "</style>\n",
       "<table border=\"1\" class=\"dataframe\">\n",
       "  <thead>\n",
       "    <tr style=\"text-align: right;\">\n",
       "      <th></th>\n",
       "      <th>Customers</th>\n",
       "      <th>DayOfWeek</th>\n",
       "      <th>Id</th>\n",
       "      <th>Open</th>\n",
       "      <th>Promo</th>\n",
       "      <th>Sales</th>\n",
       "      <th>SchoolHoliday</th>\n",
       "      <th>StateHoliday</th>\n",
       "      <th>Store</th>\n",
       "      <th>isTrain</th>\n",
       "      <th>...</th>\n",
       "      <th>SalesAvgPerStore</th>\n",
       "      <th>CustomersAvgPerStore</th>\n",
       "      <th>SalesAvgPerCustomer</th>\n",
       "      <th>isStateHoliday</th>\n",
       "      <th>SalesPerStateHoliday</th>\n",
       "      <th>SalesPerSchoolHoliday</th>\n",
       "      <th>SalesAvgPerDow</th>\n",
       "      <th>SalesMedPerDow</th>\n",
       "      <th>CustomersAvgPerDow</th>\n",
       "      <th>CustomersMedPerDow</th>\n",
       "    </tr>\n",
       "  </thead>\n",
       "  <tbody>\n",
       "    <tr>\n",
       "      <th>count</th>\n",
       "      <td>844338.000000</td>\n",
       "      <td>844338.000000</td>\n",
       "      <td>844338.0</td>\n",
       "      <td>844338.0</td>\n",
       "      <td>844338.000000</td>\n",
       "      <td>844338.000000</td>\n",
       "      <td>844338.000000</td>\n",
       "      <td>844338.000000</td>\n",
       "      <td>844338.000000</td>\n",
       "      <td>844338.0</td>\n",
       "      <td>...</td>\n",
       "      <td>844338.000000</td>\n",
       "      <td>844338.000000</td>\n",
       "      <td>844338.000000</td>\n",
       "      <td>844338.000000</td>\n",
       "      <td>844338.00000</td>\n",
       "      <td>844338.000000</td>\n",
       "      <td>844338.000000</td>\n",
       "      <td>844338.000000</td>\n",
       "      <td>844338.000000</td>\n",
       "      <td>844338.000000</td>\n",
       "    </tr>\n",
       "    <tr>\n",
       "      <th>mean</th>\n",
       "      <td>762.777166</td>\n",
       "      <td>2.520350</td>\n",
       "      <td>0.0</td>\n",
       "      <td>1.0</td>\n",
       "      <td>0.446356</td>\n",
       "      <td>6955.959134</td>\n",
       "      <td>0.193578</td>\n",
       "      <td>0.001418</td>\n",
       "      <td>558.421374</td>\n",
       "      <td>1.0</td>\n",
       "      <td>...</td>\n",
       "      <td>6955.959134</td>\n",
       "      <td>762.777166</td>\n",
       "      <td>9.589319</td>\n",
       "      <td>0.001078</td>\n",
       "      <td>1018.90627</td>\n",
       "      <td>7187.113768</td>\n",
       "      <td>6955.959134</td>\n",
       "      <td>6955.288130</td>\n",
       "      <td>762.777166</td>\n",
       "      <td>759.015219</td>\n",
       "    </tr>\n",
       "    <tr>\n",
       "      <th>std</th>\n",
       "      <td>401.194153</td>\n",
       "      <td>1.723712</td>\n",
       "      <td>0.0</td>\n",
       "      <td>0.0</td>\n",
       "      <td>0.497114</td>\n",
       "      <td>3103.815515</td>\n",
       "      <td>0.395102</td>\n",
       "      <td>0.047578</td>\n",
       "      <td>321.730861</td>\n",
       "      <td>0.0</td>\n",
       "      <td>...</td>\n",
       "      <td>2408.370239</td>\n",
       "      <td>365.361379</td>\n",
       "      <td>1.985306</td>\n",
       "      <td>0.032812</td>\n",
       "      <td>2927.47997</td>\n",
       "      <td>2440.381506</td>\n",
       "      <td>2603.783784</td>\n",
       "      <td>2672.638776</td>\n",
       "      <td>378.835686</td>\n",
       "      <td>378.667327</td>\n",
       "    </tr>\n",
       "    <tr>\n",
       "      <th>min</th>\n",
       "      <td>8.000000</td>\n",
       "      <td>0.000000</td>\n",
       "      <td>0.0</td>\n",
       "      <td>1.0</td>\n",
       "      <td>0.000000</td>\n",
       "      <td>46.000000</td>\n",
       "      <td>0.000000</td>\n",
       "      <td>0.000000</td>\n",
       "      <td>1.000000</td>\n",
       "      <td>1.0</td>\n",
       "      <td>...</td>\n",
       "      <td>2703.736573</td>\n",
       "      <td>240.183099</td>\n",
       "      <td>3.513703</td>\n",
       "      <td>0.000000</td>\n",
       "      <td>0.00000</td>\n",
       "      <td>2990.681250</td>\n",
       "      <td>935.559701</td>\n",
       "      <td>866.500000</td>\n",
       "      <td>120.902985</td>\n",
       "      <td>114.000000</td>\n",
       "    </tr>\n",
       "    <tr>\n",
       "      <th>25%</th>\n",
       "      <td>519.000000</td>\n",
       "      <td>1.000000</td>\n",
       "      <td>0.0</td>\n",
       "      <td>1.0</td>\n",
       "      <td>0.000000</td>\n",
       "      <td>4859.000000</td>\n",
       "      <td>0.000000</td>\n",
       "      <td>0.000000</td>\n",
       "      <td>280.000000</td>\n",
       "      <td>1.0</td>\n",
       "      <td>...</td>\n",
       "      <td>5323.455243</td>\n",
       "      <td>544.337179</td>\n",
       "      <td>8.098467</td>\n",
       "      <td>0.000000</td>\n",
       "      <td>0.00000</td>\n",
       "      <td>5517.412844</td>\n",
       "      <td>5256.348485</td>\n",
       "      <td>5196.000000</td>\n",
       "      <td>534.187970</td>\n",
       "      <td>530.000000</td>\n",
       "    </tr>\n",
       "    <tr>\n",
       "      <th>50%</th>\n",
       "      <td>676.000000</td>\n",
       "      <td>2.000000</td>\n",
       "      <td>0.0</td>\n",
       "      <td>1.0</td>\n",
       "      <td>0.000000</td>\n",
       "      <td>6369.000000</td>\n",
       "      <td>0.000000</td>\n",
       "      <td>0.000000</td>\n",
       "      <td>558.000000</td>\n",
       "      <td>1.0</td>\n",
       "      <td>...</td>\n",
       "      <td>6615.434783</td>\n",
       "      <td>682.770408</td>\n",
       "      <td>9.406206</td>\n",
       "      <td>0.000000</td>\n",
       "      <td>0.00000</td>\n",
       "      <td>6870.007812</td>\n",
       "      <td>6590.750000</td>\n",
       "      <td>6549.500000</td>\n",
       "      <td>678.679104</td>\n",
       "      <td>677.000000</td>\n",
       "    </tr>\n",
       "    <tr>\n",
       "      <th>75%</th>\n",
       "      <td>893.000000</td>\n",
       "      <td>4.000000</td>\n",
       "      <td>0.0</td>\n",
       "      <td>1.0</td>\n",
       "      <td>1.000000</td>\n",
       "      <td>8360.000000</td>\n",
       "      <td>0.000000</td>\n",
       "      <td>0.000000</td>\n",
       "      <td>837.000000</td>\n",
       "      <td>1.0</td>\n",
       "      <td>...</td>\n",
       "      <td>7985.847436</td>\n",
       "      <td>869.450000</td>\n",
       "      <td>10.924144</td>\n",
       "      <td>0.000000</td>\n",
       "      <td>0.00000</td>\n",
       "      <td>8259.731034</td>\n",
       "      <td>8141.354331</td>\n",
       "      <td>8155.000000</td>\n",
       "      <td>883.250000</td>\n",
       "      <td>881.000000</td>\n",
       "    </tr>\n",
       "    <tr>\n",
       "      <th>max</th>\n",
       "      <td>7388.000000</td>\n",
       "      <td>6.000000</td>\n",
       "      <td>0.0</td>\n",
       "      <td>1.0</td>\n",
       "      <td>1.000000</td>\n",
       "      <td>41551.000000</td>\n",
       "      <td>1.000000</td>\n",
       "      <td>3.000000</td>\n",
       "      <td>1115.000000</td>\n",
       "      <td>1.0</td>\n",
       "      <td>...</td>\n",
       "      <td>21757.483418</td>\n",
       "      <td>3403.458599</td>\n",
       "      <td>16.162639</td>\n",
       "      <td>1.000000</td>\n",
       "      <td>31898.87500</td>\n",
       "      <td>22747.201258</td>\n",
       "      <td>28450.328358</td>\n",
       "      <td>28347.500000</td>\n",
       "      <td>4366.440299</td>\n",
       "      <td>4394.000000</td>\n",
       "    </tr>\n",
       "  </tbody>\n",
       "</table>\n",
       "<p>8 rows × 41 columns</p>\n",
       "</div>"
      ],
      "text/plain": [
       "           Customers      DayOfWeek        Id      Open          Promo  \\\n",
       "count  844338.000000  844338.000000  844338.0  844338.0  844338.000000   \n",
       "mean      762.777166       2.520350       0.0       1.0       0.446356   \n",
       "std       401.194153       1.723712       0.0       0.0       0.497114   \n",
       "min         8.000000       0.000000       0.0       1.0       0.000000   \n",
       "25%       519.000000       1.000000       0.0       1.0       0.000000   \n",
       "50%       676.000000       2.000000       0.0       1.0       0.000000   \n",
       "75%       893.000000       4.000000       0.0       1.0       1.000000   \n",
       "max      7388.000000       6.000000       0.0       1.0       1.000000   \n",
       "\n",
       "               Sales  SchoolHoliday   StateHoliday          Store   isTrain  \\\n",
       "count  844338.000000  844338.000000  844338.000000  844338.000000  844338.0   \n",
       "mean     6955.959134       0.193578       0.001418     558.421374       1.0   \n",
       "std      3103.815515       0.395102       0.047578     321.730861       0.0   \n",
       "min        46.000000       0.000000       0.000000       1.000000       1.0   \n",
       "25%      4859.000000       0.000000       0.000000     280.000000       1.0   \n",
       "50%      6369.000000       0.000000       0.000000     558.000000       1.0   \n",
       "75%      8360.000000       0.000000       0.000000     837.000000       1.0   \n",
       "max     41551.000000       1.000000       3.000000    1115.000000       1.0   \n",
       "\n",
       "              ...          SalesAvgPerStore  CustomersAvgPerStore  \\\n",
       "count         ...             844338.000000         844338.000000   \n",
       "mean          ...               6955.959134            762.777166   \n",
       "std           ...               2408.370239            365.361379   \n",
       "min           ...               2703.736573            240.183099   \n",
       "25%           ...               5323.455243            544.337179   \n",
       "50%           ...               6615.434783            682.770408   \n",
       "75%           ...               7985.847436            869.450000   \n",
       "max           ...              21757.483418           3403.458599   \n",
       "\n",
       "       SalesAvgPerCustomer  isStateHoliday  SalesPerStateHoliday  \\\n",
       "count        844338.000000   844338.000000          844338.00000   \n",
       "mean              9.589319        0.001078            1018.90627   \n",
       "std               1.985306        0.032812            2927.47997   \n",
       "min               3.513703        0.000000               0.00000   \n",
       "25%               8.098467        0.000000               0.00000   \n",
       "50%               9.406206        0.000000               0.00000   \n",
       "75%              10.924144        0.000000               0.00000   \n",
       "max              16.162639        1.000000           31898.87500   \n",
       "\n",
       "       SalesPerSchoolHoliday  SalesAvgPerDow  SalesMedPerDow  \\\n",
       "count          844338.000000   844338.000000   844338.000000   \n",
       "mean             7187.113768     6955.959134     6955.288130   \n",
       "std              2440.381506     2603.783784     2672.638776   \n",
       "min              2990.681250      935.559701      866.500000   \n",
       "25%              5517.412844     5256.348485     5196.000000   \n",
       "50%              6870.007812     6590.750000     6549.500000   \n",
       "75%              8259.731034     8141.354331     8155.000000   \n",
       "max             22747.201258    28450.328358    28347.500000   \n",
       "\n",
       "       CustomersAvgPerDow  CustomersMedPerDow  \n",
       "count       844338.000000       844338.000000  \n",
       "mean           762.777166          759.015219  \n",
       "std            378.835686          378.667327  \n",
       "min            120.902985          114.000000  \n",
       "25%            534.187970          530.000000  \n",
       "50%            678.679104          677.000000  \n",
       "75%            883.250000          881.000000  \n",
       "max           4366.440299         4394.000000  \n",
       "\n",
       "[8 rows x 41 columns]"
      ]
     },
     "execution_count": 6,
     "metadata": {},
     "output_type": "execute_result"
    }
   ],
   "source": [
    "train_data = data[data['isTrain'] == 1]\n",
    "test_data = data[data['isTrain'] == 0]\n",
    "print(features)\n",
    "train_data.describe()"
   ]
  },
  {
   "cell_type": "code",
   "execution_count": 7,
   "metadata": {
    "scrolled": false
   },
   "outputs": [
    {
     "data": {
      "text/plain": [
       "<matplotlib.axes._subplots.AxesSubplot at 0x8e94198>"
      ]
     },
     "execution_count": 7,
     "metadata": {},
     "output_type": "execute_result"
    },
    {
     "data": {
      "image/png": "[encoded data removed]",
      "text/plain": [
       "<matplotlib.figure.Figure at 0x8e9b9b0>"
      ]
     },
     "metadata": {},
     "output_type": "display_data"
    }
   ],
   "source": [
    "plt.figure(figsize=(6, 6))\n",
    "plt.suptitle('box plot')\n",
    "plt.subplot(1, 2, 1)\n",
    "train_data[['Sales']].boxplot()\n",
    "plt.subplot(1, 2, 2)\n",
    "train_data[['Customers']].boxplot()"
   ]
  },
  {
   "cell_type": "code",
   "execution_count": 8,
   "metadata": {},
   "outputs": [
    {
     "data": {
      "text/plain": [
       "Text(0.5,0.98,'the distribution of Sales&SalesLog')"
      ]
     },
     "execution_count": 8,
     "metadata": {},
     "output_type": "execute_result"
    },
    {
     "data": {
      "image/png": "[encoded data removed]",
      "text/plain": [
       "<matplotlib.figure.Figure at 0x9cd3a58>"
      ]
     },
     "metadata": {},
     "output_type": "display_data"
    }
   ],
   "source": [
    "#sales hist\n",
    "plt.figure(figsize=(10, 10))\n",
    "plt.subplot(2, 1, 1)\n",
    "sales_fig = train_data.loc[train_data['Sales']>0, 'Sales'].hist(bins=100)\n",
    "sales_fig.set_xlabel('Sales')\n",
    "sales_fig.set_ylabel('Count')\n",
    "#log(sales) hist\n",
    "plt.subplot(2, 1, 2)\n",
    "saleslog_fig = train_data.loc[train_data['Sales']>0, 'SalesLog'].hist(bins=100)\n",
    "saleslog_fig.set_ylabel('Count')\n",
    "saleslog_fig.set_xlabel('SalesLog')\n",
    "plt.suptitle('the distribution of Sales&SalesLog')"
   ]
  },
  {
   "cell_type": "code",
   "execution_count": 9,
   "metadata": {},
   "outputs": [
    {
     "data": {
      "text/plain": [
       "Text(0.5,0.98,'the distribution of Customers&CustomersLog')"
      ]
     },
     "execution_count": 9,
     "metadata": {},
     "output_type": "execute_result"
    },
    {
     "data": {
      "image/png": "[encoded data removed]",
      "text/plain": [
       "<matplotlib.figure.Figure at 0x9cd3ac8>"
      ]
     },
     "metadata": {},
     "output_type": "display_data"
    }
   ],
   "source": [
    "#sales hist\n",
    "plt.figure(figsize=(10, 10))\n",
    "plt.subplot(2, 1, 1)\n",
    "sales_fig = train_data.loc[train_data['Customers']>0, 'Customers'].hist(bins=100)\n",
    "sales_fig.set_xlabel('Customers')\n",
    "sales_fig.set_ylabel('Count')\n",
    "#log(sales) hist\n",
    "plt.subplot(2, 1, 2)\n",
    "saleslog_fig = train_data.loc[train_data['Customers']>0, 'CustomersLog'].hist(bins=100)\n",
    "saleslog_fig.set_ylabel('Count')\n",
    "saleslog_fig.set_xlabel('CustomersLog')\n",
    "plt.suptitle('the distribution of Customers&CustomersLog')"
   ]
  },
  {
   "cell_type": "code",
   "execution_count": 10,
   "metadata": {},
   "outputs": [
    {
     "data": {
      "text/html": [
       "<div>\n",
       "<style scoped>\n",
       "    .dataframe tbody tr th:only-of-type {\n",
       "        vertical-align: middle;\n",
       "    }\n",
       "\n",
       "    .dataframe tbody tr th {\n",
       "        vertical-align: top;\n",
       "    }\n",
       "\n",
       "    .dataframe thead th {\n",
       "        text-align: right;\n",
       "    }\n",
       "</style>\n",
       "<table border=\"1\" class=\"dataframe\">\n",
       "  <thead>\n",
       "    <tr style=\"text-align: right;\">\n",
       "      <th></th>\n",
       "      <th>Sales</th>\n",
       "      <th>Customers</th>\n",
       "    </tr>\n",
       "    <tr>\n",
       "      <th>Promo</th>\n",
       "      <th></th>\n",
       "      <th></th>\n",
       "    </tr>\n",
       "  </thead>\n",
       "  <tbody>\n",
       "    <tr>\n",
       "      <th>0</th>\n",
       "      <td>5459.0</td>\n",
       "      <td>610.0</td>\n",
       "    </tr>\n",
       "    <tr>\n",
       "      <th>1</th>\n",
       "      <td>7650.0</td>\n",
       "      <td>757.0</td>\n",
       "    </tr>\n",
       "  </tbody>\n",
       "</table>\n",
       "</div>"
      ],
      "text/plain": [
       "        Sales  Customers\n",
       "Promo                   \n",
       "0      5459.0      610.0\n",
       "1      7650.0      757.0"
      ]
     },
     "execution_count": 10,
     "metadata": {},
     "output_type": "execute_result"
    },
    {
     "data": {
      "image/png": "[encoded data removed]",
      "text/plain": [
       "<matplotlib.figure.Figure at 0x8e9b208>"
      ]
     },
     "metadata": {},
     "output_type": "display_data"
    }
   ],
   "source": [
    "#promo effect\n",
    "#sales & customers per day \n",
    "df = train_data.groupby(['Promo'])['Sales','Customers'].median()\n",
    "df.plot(kind='bar')\n",
    "df.head()"
   ]
  },
  {
   "cell_type": "code",
   "execution_count": 11,
   "metadata": {
    "scrolled": false
   },
   "outputs": [
    {
     "data": {
      "text/plain": [
       "<matplotlib.axes._subplots.AxesSubplot at 0x1c4d83c8>"
      ]
     },
     "execution_count": 11,
     "metadata": {},
     "output_type": "execute_result"
    },
    {
     "data": {
      "image/png": "[encoded data removed]",
      "text/plain": [
       "<matplotlib.figure.Figure at 0x9cac208>"
      ]
     },
     "metadata": {},
     "output_type": "display_data"
    }
   ],
   "source": [
    "#holiday effect\n",
    "dfs = train_data.groupby(['SchoolHoliday', 'StateHoliday'])['Sales'].median()\n",
    "dfc = train_data.groupby(['SchoolHoliday', 'StateHoliday'])['Customers'].median()\n",
    "plt.figure(figsize=(9, 6))\n",
    "plt.subplot(1, 2, 1)\n",
    "dfs.plot(kind='bar', title='Sales Of Holidays')\n",
    "plt.subplot(1, 2, 2)\n",
    "dfc.plot(kind='bar', title='Customers Of Holidays')"
   ]
  },
  {
   "cell_type": "code",
   "execution_count": 12,
   "metadata": {},
   "outputs": [
    {
     "data": {
      "text/html": [
       "<div>\n",
       "<style scoped>\n",
       "    .dataframe tbody tr th:only-of-type {\n",
       "        vertical-align: middle;\n",
       "    }\n",
       "\n",
       "    .dataframe tbody tr th {\n",
       "        vertical-align: top;\n",
       "    }\n",
       "\n",
       "    .dataframe thead th {\n",
       "        text-align: right;\n",
       "    }\n",
       "</style>\n",
       "<table border=\"1\" class=\"dataframe\">\n",
       "  <thead>\n",
       "    <tr style=\"text-align: right;\">\n",
       "      <th></th>\n",
       "      <th>Sales</th>\n",
       "      <th>Customers</th>\n",
       "    </tr>\n",
       "    <tr>\n",
       "      <th>StoreType</th>\n",
       "      <th></th>\n",
       "      <th></th>\n",
       "    </tr>\n",
       "  </thead>\n",
       "  <tbody>\n",
       "    <tr>\n",
       "      <th>1</th>\n",
       "      <td>6285.0</td>\n",
       "      <td>720.0</td>\n",
       "    </tr>\n",
       "    <tr>\n",
       "      <th>2</th>\n",
       "      <td>9130.0</td>\n",
       "      <td>1839.5</td>\n",
       "    </tr>\n",
       "    <tr>\n",
       "      <th>3</th>\n",
       "      <td>6408.0</td>\n",
       "      <td>756.0</td>\n",
       "    </tr>\n",
       "    <tr>\n",
       "      <th>4</th>\n",
       "      <td>6395.0</td>\n",
       "      <td>577.0</td>\n",
       "    </tr>\n",
       "  </tbody>\n",
       "</table>\n",
       "</div>"
      ],
      "text/plain": [
       "            Sales  Customers\n",
       "StoreType                   \n",
       "1          6285.0      720.0\n",
       "2          9130.0     1839.5\n",
       "3          6408.0      756.0\n",
       "4          6395.0      577.0"
      ]
     },
     "execution_count": 12,
     "metadata": {},
     "output_type": "execute_result"
    },
    {
     "data": {
      "image/png": "[encoded data removed]",
      "text/plain": [
       "<matplotlib.figure.Figure at 0xa071ac8>"
      ]
     },
     "metadata": {},
     "output_type": "display_data"
    }
   ],
   "source": [
    "#storetype effect\n",
    "df = train_data.groupby(['StoreType'])['Sales','Customers'].median()\n",
    "df.plot(kind='bar',title='StoreType')\n",
    "df.head()"
   ]
  },
  {
   "cell_type": "code",
   "execution_count": 13,
   "metadata": {},
   "outputs": [
    {
     "data": {
      "text/html": [
       "<div>\n",
       "<style scoped>\n",
       "    .dataframe tbody tr th:only-of-type {\n",
       "        vertical-align: middle;\n",
       "    }\n",
       "\n",
       "    .dataframe tbody tr th {\n",
       "        vertical-align: top;\n",
       "    }\n",
       "\n",
       "    .dataframe thead th {\n",
       "        text-align: right;\n",
       "    }\n",
       "</style>\n",
       "<table border=\"1\" class=\"dataframe\">\n",
       "  <thead>\n",
       "    <tr style=\"text-align: right;\">\n",
       "      <th></th>\n",
       "      <th>Sales</th>\n",
       "      <th>Customers</th>\n",
       "    </tr>\n",
       "    <tr>\n",
       "      <th>DayOfWeek</th>\n",
       "      <th></th>\n",
       "      <th></th>\n",
       "    </tr>\n",
       "  </thead>\n",
       "  <tbody>\n",
       "    <tr>\n",
       "      <th>0</th>\n",
       "      <td>7539.0</td>\n",
       "      <td>769.0</td>\n",
       "    </tr>\n",
       "    <tr>\n",
       "      <th>1</th>\n",
       "      <td>6502.0</td>\n",
       "      <td>684.0</td>\n",
       "    </tr>\n",
       "    <tr>\n",
       "      <th>2</th>\n",
       "      <td>6210.0</td>\n",
       "      <td>658.0</td>\n",
       "    </tr>\n",
       "    <tr>\n",
       "      <th>3</th>\n",
       "      <td>6246.0</td>\n",
       "      <td>673.0</td>\n",
       "    </tr>\n",
       "    <tr>\n",
       "      <th>4</th>\n",
       "      <td>6581.0</td>\n",
       "      <td>698.0</td>\n",
       "    </tr>\n",
       "    <tr>\n",
       "      <th>5</th>\n",
       "      <td>5425.0</td>\n",
       "      <td>573.0</td>\n",
       "    </tr>\n",
       "    <tr>\n",
       "      <th>6</th>\n",
       "      <td>6876.0</td>\n",
       "      <td>1262.0</td>\n",
       "    </tr>\n",
       "  </tbody>\n",
       "</table>\n",
       "</div>"
      ],
      "text/plain": [
       "            Sales  Customers\n",
       "DayOfWeek                   \n",
       "0          7539.0      769.0\n",
       "1          6502.0      684.0\n",
       "2          6210.0      658.0\n",
       "3          6246.0      673.0\n",
       "4          6581.0      698.0\n",
       "5          5425.0      573.0\n",
       "6          6876.0     1262.0"
      ]
     },
     "execution_count": 13,
     "metadata": {},
     "output_type": "execute_result"
    },
    {
     "data": {
      "image/png": "[encoded data removed]",
      "text/plain": [
       "<matplotlib.figure.Figure at 0x1c39d390>"
      ]
     },
     "metadata": {},
     "output_type": "display_data"
    }
   ],
   "source": [
    "#DayofWeek effect\n",
    "dfdw = train_data.groupby(['DayOfWeek'])['Sales', 'Customers'].median()\n",
    "dfdw.plot(kind='bar', title='Median Sales&Customers of DayOfWeek')\n",
    "dfdw.head(7)"
   ]
  },
  {
   "cell_type": "code",
   "execution_count": 14,
   "metadata": {
    "scrolled": true
   },
   "outputs": [
    {
     "data": {
      "text/plain": [
       "<matplotlib.axes._subplots.AxesSubplot at 0xb2c0550>"
      ]
     },
     "execution_count": 14,
     "metadata": {},
     "output_type": "execute_result"
    },
    {
     "data": {
      "image/png": "[encoded data removed]",
      "text/plain": [
       "<matplotlib.figure.Figure at 0xb2d1a90>"
      ]
     },
     "metadata": {},
     "output_type": "display_data"
    }
   ],
   "source": [
    "#promo month\n",
    "dfpm = train_data.groupby(['Month', 'IsPromoMonth'])['Sales', 'Customers'].median()\n",
    "dfpm.unstack().plot(kind='bar',title='Sales&Customers across PromoIntervals')"
   ]
  },
  {
   "cell_type": "code",
   "execution_count": 11,
   "metadata": {},
   "outputs": [],
   "source": [
    "#rmspe\n",
    "def weight(y):\n",
    "    w = np.zeros(y.shape, dtype=float)\n",
    "    idx = y != 0\n",
    "    w[idx] = 1.0 / (y[idx]**2)\n",
    "    return w\n",
    "\n",
    "def rmspe_xg(yhat, y):\n",
    "    y = y.get_label()\n",
    "    y = np.exp(y) - 1\n",
    "    yhat = np.exp(yhat) - 1\n",
    "    w = weight(y)\n",
    "    rmspe = np.sqrt(np.mean(w * (y - yhat)**2))\n",
    "    return 'rmspe', rmspe\n",
    "\n",
    "def rmspe(yhat, y):\n",
    "    w = weight(y)\n",
    "    rmspe = np.sqrt(np.mean(w * (yhat - y)**2))\n",
    "    return rmspe\n",
    "\n",
    "# create feature map\n",
    "def create_feature_map(features):\n",
    "    output = open('xgb.map', 'w')\n",
    "    for i, f in enumerate(features):\n",
    "        output.write('{0}\\t{1}\\tq\\n' .format(i, f))\n",
    "    output.close()"
   ]
  },
  {
   "cell_type": "markdown",
   "metadata": {},
   "source": [
    "## 决策树模型"
   ]
  },
  {
   "cell_type": "code",
   "execution_count": 128,
   "metadata": {},
   "outputs": [
    {
     "name": "stderr",
     "output_type": "stream",
     "text": [
      "D:\\Anaconda\\lib\\site-packages\\sklearn\\cross_validation.py:41: DeprecationWarning: This module was deprecated in version 0.18 in favor of the model_selection module into which all the refactored classes and functions are moved. Also note that the interface of the new CV iterators are different from that of this module. This module will be removed in 0.20.\n",
      "  \"This module will be removed in 0.20.\", DeprecationWarning)\n"
     ]
    }
   ],
   "source": [
    "from sklearn.cross_validation import train_test_split\n",
    "features_x = ['Store', 'CompetitionDistance', 'Promo', 'Promo2', 'SchoolHoliday',\n",
    "           'StoreType', 'Assortment', 'StateHoliday', 'DayOfWeek', 'Month',\n",
    "           'Day', 'Year', 'WeekOfYear', 'CompetitionOpen', 'PromoOpen', 'IsPromoMonth']\n",
    "features_y = ['SalesLog']\n",
    "X_train_tree, X_test_tree, y_train_tree, y_test_tree = train_test_split(train_data[features_x], \n",
    "                                                        train_data[features_y],\n",
    "                                                        test_size=0.2, random_state=10)"
   ]
  },
  {
   "cell_type": "code",
   "execution_count": 129,
   "metadata": {},
   "outputs": [
    {
     "name": "stdout",
     "output_type": "stream",
     "text": [
      "0.18875617507935039\n"
     ]
    }
   ],
   "source": [
    "#DecisionTree\n",
    "from sklearn.metrics import mean_squared_error\n",
    "from sklearn.tree import DecisionTreeRegressor\n",
    "dtree = DecisionTreeRegressor(random_state=2)\n",
    "dtree.fit(X_train_tree, y_train_tree)\n",
    "\n",
    "y_pred = dtree.predict(X_test_tree)\n",
    "y = np.expm1(y_test_tree)\n",
    "y = np.array(y.SalesLog.tolist(), dtype=np.float32)\n",
    "error = rmspe(np.expm1(y_pred), y)\n",
    "print(error)"
   ]
  },
  {
   "cell_type": "code",
   "execution_count": 135,
   "metadata": {},
   "outputs": [
    {
     "name": "stdout",
     "output_type": "stream",
     "text": [
      "Best parameters: {'max_depth': None, 'min_samples_leaf': 4, 'min_samples_split': 15}\n",
      "0.16522328139828293\n"
     ]
    }
   ],
   "source": [
    "from sklearn.grid_search import GridSearchCV\n",
    "\n",
    "param_grid = {\"min_samples_split\": [15, 10, 30],\n",
    "              \"max_depth\": [None, 4, 6, 8],\n",
    "              \"min_samples_leaf\": [4, 12, 8]\n",
    "              }\n",
    "grid_search = GridSearchCV(dtree, param_grid=param_grid)\n",
    "grid_search.fit(X_train_tree, y_train_tree)\n",
    "\n",
    "y_pred = grid_search.predict(X_test_tree)\n",
    "\n",
    "print (\"Best parameters:\", grid_search.best_params_)\n",
    "\n",
    "y = np.expm1(y_test_tree)\n",
    "y = np.array(y.SalesLog.tolist(), dtype=np.float32)\n",
    "error = rmspe(np.expm1(y_pred), y)                                                                                                                                                                                                                                                                                                                                                                                                                                                                                                                                                                                                                                                                                                                                                                                                                                                                                                                                                                                                                                                                                                                                                                                                                                                                                                                                                                                                                                                                                                                                                                                                                                                                                                                                                                                                                                                                                                                                                                                                                                                                                                                                                                                                                                                                                                                                                                                                                                                                                                                                                                                                                                                                                                                                                                                                                                                                                                                                                                                                                                                                                                                                                                                                                                                                                                                                                           \n",
    "print(error)"
   ]
  },
  {
   "cell_type": "code",
   "execution_count": 136,
   "metadata": {},
   "outputs": [
    {
     "name": "stdout",
     "output_type": "stream",
     "text": [
      "[0.20759216 0.25486221 0.16362506 0.01680293 0.00330497 0.03890075\n",
      " 0.02213818 0.00145956 0.06901582 0.00913246 0.03963852 0.00551298\n",
      " 0.03702789 0.09376153 0.03538692 0.00183808]\n"
     ]
    },
    {
     "data": {
      "image/png": "[encoded data removed]",
      "text/plain": [
       "<matplotlib.figure.Figure at 0xebd2ac8>"
      ]
     },
     "metadata": {},
     "output_type": "display_data"
    }
   ],
   "source": [
    "tree_features = pd.Series(dtree.feature_importances_, index=features_x).sort_values()\n",
    "tree_features.plot(kind='barh')\n",
    "print(dtree.feature_importances_)"
   ]
  },
  {
   "cell_type": "code",
   "execution_count": 138,
   "metadata": {},
   "outputs": [],
   "source": [
    "y_vaild = grid_search.predict(test_data[features_x])\n",
    "result = pd.DataFrame({'ID': test_data['Id'], 'Sales':np.expm1(y_vaild)})\n",
    "result[['ID']] = result[['ID']].astype(int)\n",
    "result.to_csv('output/rossmann_dtree.csv', index=False)"
   ]
  },
  {
   "cell_type": "markdown",
   "metadata": {},
   "source": [
    " #### DecisionTree Private Score:0.21986"
   ]
  },
  {
   "cell_type": "markdown",
   "metadata": {},
   "source": [
    "## XGBOOST模型"
   ]
  },
  {
   "cell_type": "code",
   "execution_count": 12,
   "metadata": {},
   "outputs": [
    {
     "name": "stdout",
     "output_type": "stream",
     "text": [
      "test set timeDelta is 47 days 00:00:00, train set timeDelta is 941 days 00:00:00\n"
     ]
    }
   ],
   "source": [
    "timeDelta = test_data.Date.max() - test_data.Date.min()\n",
    "timeDelta1 = train_data.Date.max() - train_data.Date.min()\n",
    "print('test set timeDelta is %s, train set timeDelta is %s'%(timeDelta, timeDelta1))"
   ]
  },
  {
   "cell_type": "code",
   "execution_count": 13,
   "metadata": {},
   "outputs": [],
   "source": [
    "#split train and test set\n",
    "#timeDelta = pd.Timedelta(weeks=6)\n",
    "timeDelta = test_data.Date.max() - test_data.Date.min()\n",
    "maxDate = train_data.Date.max()\n",
    "minDate = maxDate - timeDelta\n",
    "testIn = train_data['Date'].apply(lambda x: (x <= maxDate and x >= minDate))\n",
    "trainIn = testIn.apply(lambda x: (not x))\n",
    "X_train = train_data[trainIn]\n",
    "X_test = train_data[testIn]\n",
    "y_train = train_data['SalesLog'][trainIn]\n",
    "y_test = train_data['SalesLog'][testIn]"
   ]
  },
  {
   "cell_type": "code",
   "execution_count": 18,
   "metadata": {},
   "outputs": [],
   "source": [
    "#xgboost\n",
    "import xgboost as xgb\n",
    "\n",
    "dtrain = xgb.DMatrix(X_train[features], y_train)\n",
    "dtest = xgb.DMatrix(X_test[features], y_test)"
   ]
  },
  {
   "cell_type": "code",
   "execution_count": 142,
   "metadata": {
    "scrolled": true
   },
   "outputs": [
    {
     "name": "stdout",
     "output_type": "stream",
     "text": [
      "[0]\ttrain-rmse:8.01907\teval-rmse:8.052\ttrain-rmspe:0.999809\teval-rmspe:0.999816\n",
      "Multiple eval metrics have been passed: 'eval-rmspe' will be used for early stopping.\n",
      "\n",
      "Will train until eval-rmspe hasn't improved in 50 rounds.\n",
      "[50]\ttrain-rmse:1.75535\teval-rmse:1.77901\ttrain-rmspe:0.824113\teval-rmspe:0.827806\n",
      "[100]\ttrain-rmse:0.401798\teval-rmse:0.416479\ttrain-rmspe:0.339066\teval-rmspe:0.332784\n",
      "[150]\ttrain-rmse:0.140141\teval-rmse:0.157256\ttrain-rmspe:0.184973\teval-rmspe:0.145693\n",
      "[200]\ttrain-rmse:0.106167\teval-rmse:0.126895\ttrain-rmspe:0.164866\teval-rmspe:0.128526\n",
      "[250]\ttrain-rmse:0.0996\teval-rmse:0.122416\ttrain-rmspe:0.158862\teval-rmspe:0.126916\n",
      "[300]\ttrain-rmse:0.096278\teval-rmse:0.120513\ttrain-rmspe:0.152622\teval-rmspe:0.125366\n",
      "[350]\ttrain-rmse:0.094005\teval-rmse:0.119545\ttrain-rmspe:0.140966\teval-rmspe:0.124424\n",
      "[400]\ttrain-rmse:0.092182\teval-rmse:0.118642\ttrain-rmspe:0.134482\teval-rmspe:0.123276\n",
      "[450]\ttrain-rmse:0.090487\teval-rmse:0.117835\ttrain-rmspe:0.12505\teval-rmspe:0.122386\n",
      "[500]\ttrain-rmse:0.088915\teval-rmse:0.117139\ttrain-rmspe:0.118311\teval-rmspe:0.121587\n",
      "[550]\ttrain-rmse:0.087501\teval-rmse:0.116584\ttrain-rmspe:0.115957\teval-rmspe:0.120945\n",
      "[600]\ttrain-rmse:0.086305\teval-rmse:0.116178\ttrain-rmspe:0.11142\teval-rmspe:0.120398\n",
      "[650]\ttrain-rmse:0.085114\teval-rmse:0.115796\ttrain-rmspe:0.106965\teval-rmspe:0.11999\n",
      "[700]\ttrain-rmse:0.084084\teval-rmse:0.115498\ttrain-rmspe:0.104591\teval-rmspe:0.119643\n",
      "[750]\ttrain-rmse:0.083152\teval-rmse:0.115216\ttrain-rmspe:0.102444\teval-rmspe:0.119329\n",
      "[800]\ttrain-rmse:0.08236\teval-rmse:0.115\ttrain-rmspe:0.101199\teval-rmspe:0.119089\n",
      "[850]\ttrain-rmse:0.081433\teval-rmse:0.114703\ttrain-rmspe:0.099713\teval-rmspe:0.118812\n",
      "[900]\ttrain-rmse:0.080666\teval-rmse:0.114585\ttrain-rmspe:0.097001\teval-rmspe:0.1187\n",
      "[950]\ttrain-rmse:0.079844\teval-rmse:0.114371\ttrain-rmspe:0.09536\teval-rmspe:0.118468\n",
      "[1000]\ttrain-rmse:0.079068\teval-rmse:0.114209\ttrain-rmspe:0.092843\teval-rmspe:0.118244\n",
      "[1050]\ttrain-rmse:0.078308\teval-rmse:0.114033\ttrain-rmspe:0.09098\teval-rmspe:0.118027\n",
      "[1100]\ttrain-rmse:0.077639\teval-rmse:0.114059\ttrain-rmspe:0.088471\teval-rmspe:0.117986\n",
      "[1150]\ttrain-rmse:0.07695\teval-rmse:0.11396\ttrain-rmspe:0.087285\teval-rmspe:0.117905\n",
      "[1200]\ttrain-rmse:0.076368\teval-rmse:0.113836\ttrain-rmspe:0.086088\teval-rmspe:0.117814\n",
      "[1250]\ttrain-rmse:0.075758\teval-rmse:0.113716\ttrain-rmspe:0.084572\teval-rmspe:0.117689\n",
      "[1300]\ttrain-rmse:0.075228\teval-rmse:0.113625\ttrain-rmspe:0.083678\teval-rmspe:0.1176\n",
      "[1350]\ttrain-rmse:0.074672\teval-rmse:0.113585\ttrain-rmspe:0.082545\teval-rmspe:0.117568\n",
      "[1400]\ttrain-rmse:0.07415\teval-rmse:0.113498\ttrain-rmspe:0.081709\teval-rmspe:0.11745\n",
      "[1450]\ttrain-rmse:0.073631\teval-rmse:0.113472\ttrain-rmspe:0.080819\teval-rmspe:0.117404\n",
      "[1500]\ttrain-rmse:0.073087\teval-rmse:0.113393\ttrain-rmspe:0.080104\teval-rmspe:0.117316\n",
      "[1550]\ttrain-rmse:0.072574\teval-rmse:0.113363\ttrain-rmspe:0.079344\teval-rmspe:0.11729\n",
      "[1600]\ttrain-rmse:0.072123\teval-rmse:0.113316\ttrain-rmspe:0.078445\teval-rmspe:0.117255\n",
      "[1650]\ttrain-rmse:0.071613\teval-rmse:0.113324\ttrain-rmspe:0.077583\teval-rmspe:0.117254\n",
      "[1700]\ttrain-rmse:0.071123\teval-rmse:0.113267\ttrain-rmspe:0.076815\teval-rmspe:0.117174\n",
      "[1750]\ttrain-rmse:0.070674\teval-rmse:0.113235\ttrain-rmspe:0.076164\teval-rmspe:0.117113\n",
      "Stopping. Best iteration:\n",
      "[1727]\ttrain-rmse:0.070881\teval-rmse:0.113211\ttrain-rmspe:0.076493\teval-rmspe:0.117068\n",
      "\n"
     ]
    }
   ],
   "source": [
    "\n",
    "nround = 3000\n",
    "watch_list = [(dtrain, 'train'), (dtest, 'eval')]\n",
    "params = {\n",
    "    'objective': 'reg:linear',\n",
    "    'booster': 'gbtree',\n",
    "    'eta': 0.03,\n",
    "    'max_depth': 10,\n",
    "    'subsample': 0.8,\n",
    "    'colsample_bytree': 0.6,\n",
    "    'silent': 1,\n",
    "    'seed':1301\n",
    "}\n",
    "gbm = xgb.train(params, dtrain, nround, watch_list, \n",
    "               early_stopping_rounds=50, verbose_eval=50,\n",
    "               feval=rmspe_xg)\n",
    "\n",
    "#save model\n",
    "#gbm.save_model('0001.model')\n"
   ]
  },
  {
   "cell_type": "code",
   "execution_count": 143,
   "metadata": {},
   "outputs": [
    {
     "name": "stdout",
     "output_type": "stream",
     "text": [
      "0.11709473906984764\n"
     ]
    }
   ],
   "source": [
    "y_pred = gbm.predict(xgb.DMatrix(X_test[features]))\n",
    "#evaluate\n",
    "error = rmspe(np.expm1(y_pred), X_test['Sales'].values)\n",
    "print(error)"
   ]
  },
  {
   "cell_type": "code",
   "execution_count": 160,
   "metadata": {},
   "outputs": [
    {
     "data": {
      "image/png": "[encoded data removed]",
      "text/plain": [
       "<matplotlib.figure.Figure at 0xb9f97f0>"
      ]
     },
     "metadata": {},
     "output_type": "display_data"
    }
   ],
   "source": [
    "dvaild = xgb.DMatrix(test_data[features])\n",
    "y_vaild = gbm.predict(dvaild)\n",
    "result = pd.DataFrame({'ID': test_data['Id'], 'Sales':np.expm1(y_vaild)})\n",
    "result[['ID']] = result[['ID']].astype(int)\n",
    "result.to_csv('output/xgb_base.csv', index=False)\n",
    "\n",
    "#xgb feature importances\n",
    "#xgb.plot_importance(gbm)\n",
    "import operator\n",
    "create_feature_map(features)\n",
    "importance = gbm.get_fscore(fmap='xgb.map')\n",
    "importance = sorted(importance.items(), key=operator.itemgetter(1))\n",
    "\n",
    "df_features = pd.DataFrame(importance, columns=['feature', 'fscore'])\n",
    "df_features['fscore'] = df_features['fscore'] / df_features['fscore'].sum()\n",
    "\n",
    "featp = df_features.plot(kind='barh', x='feature', y='fscore', legend=False, figsize=(6, 10))\n",
    "plt.title('XGBoost Feature Importance')\n",
    "plt.xlabel('relative importance')\n",
    "fig_featp = featp.get_figure()\n",
    "fig_featp.savefig('feature_importance_xgb.png', bbox_inches='tight', pad_inches=1)"
   ]
  },
  {
   "cell_type": "markdown",
   "metadata": {},
   "source": [
    " #### Xgboost Private Score:0.12202"
   ]
  },
  {
   "cell_type": "code",
   "execution_count": null,
   "metadata": {},
   "outputs": [],
   "source": []
  }
 ],
 "metadata": {
  "kernelspec": {
   "display_name": "Python 3",
   "language": "python",
   "name": "python3"
  },
  "language_info": {
   "codemirror_mode": {
    "name": "ipython",
    "version": 3
   },
   "file_extension": ".py",
   "mimetype": "text/x-python",
   "name": "python",
   "nbconvert_exporter": "python",
   "pygments_lexer": "ipython3",
   "version": "3.6.4"
  }
 },
 "nbformat": 4,
 "nbformat_minor": 2
}
